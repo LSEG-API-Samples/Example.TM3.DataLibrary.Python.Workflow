{
 "cells": [
  {
   "cell_type": "markdown",
   "id": "57881d76",
   "metadata": {},
   "source": [
    "# TM3 CFS File Workflow using Data Library for Python\n",
    "\n",
    "**Last Updated**: Aug 2025\n",
    "\n",
    "Example Code Disclaimer:\n",
    "ALL EXAMPLE CODE IS PROVIDED ON AN “AS IS” AND “AS AVAILABLE” BASIS FOR ILLUSTRATIVE PURPOSES ONLY. LSEG MAKES NO REPRESENTATIONS OR WARRANTIES OF ANY KIND, EXPRESS OR IMPLIED, AS TO THE OPERATION OF THE EXAMPLE CODE, OR THE INFORMATION, CONTENT, OR MATERIALS USED IN CONNECTION WITH THE EXAMPLE CODE. YOU EXPRESSLY AGREE THAT YOUR USE OF THE EXAMPLE CODE IS AT YOUR SOLE RISK."
   ]
  },
  {
   "cell_type": "markdown",
   "id": "5f4168e7",
   "metadata": {},
   "source": [
    "### Import Libraries"
   ]
  },
  {
   "cell_type": "code",
   "execution_count": 1,
   "id": "92ddb725",
   "metadata": {},
   "outputs": [],
   "source": [
    "import lseg.data as ld\n",
    "import lseg.data.delivery.cfs as cfs\n",
    "from datetime import timedelta"
   ]
  },
  {
   "cell_type": "markdown",
   "id": "6edf446e",
   "metadata": {},
   "source": [
    "### Step 1:  Open the Session"
   ]
  },
  {
   "cell_type": "code",
   "execution_count": null,
   "id": "672e9518",
   "metadata": {},
   "outputs": [
    {
     "data": {
      "text/plain": [
       "<lseg.data.session.Definition object at 0x7c2c5921e0d0 {name='ldp'}>"
      ]
     },
     "execution_count": 3,
     "metadata": {},
     "output_type": "execute_result"
    }
   ],
   "source": [
    "ld.open_session('platform.ldp')\n",
    "#ld.open_session(config_name='./lseg-data.devrel.config.json')"
   ]
  },
  {
   "cell_type": "markdown",
   "id": "96c48c4b",
   "metadata": {},
   "source": [
    "The ```bucket-name``` for the TM3 (Municipal Market Monitor) feed data is **bulk-Custom**.\n",
    "\n",
    "Please contact your LSEG representative to help you with the ```packageId```."
   ]
  },
  {
   "cell_type": "code",
   "execution_count": null,
   "id": "ea04c3ea",
   "metadata": {},
   "outputs": [],
   "source": [
    "package_id = 'Your Package ID'\n",
    "bucket_name = 'bulk-Custom'"
   ]
  },
  {
   "cell_type": "markdown",
   "id": "8034bebd",
   "metadata": {},
   "source": [
    "### Step 2: Query for specific Date using modified_since and page_size=100 to limit data return<-- Recommended One\n",
    "\n",
    "Now we come to getting the ```FileSets``` information.  The application needs to send a request to RDP to list **the first** 100 FileSets under the input ```bucket``` and ```package_id``` that has been modified since ```modified_since``` as follows.\n",
    "\n",
    " The ```modified_since``` parameter can help an application to limit the returned File-Set only for the File-Set that has been modified after a specified time. "
   ]
  },
  {
   "cell_type": "code",
   "execution_count": null,
   "id": "ff6e6336",
   "metadata": {},
   "outputs": [],
   "source": [
    "response = cfs.file_sets.Definition(\n",
    "    bucket = bucket_name, \n",
    "    package_id = package_id,\n",
    "    page_size = 100,\n",
    "    modified_since=\"2025-07-25T12:00:00Z\"\n",
    "    ).get_data()\n",
    "response.data.df"
   ]
  },
  {
   "cell_type": "markdown",
   "id": "38c3e13e",
   "metadata": {},
   "source": [
    "### Get the file URL detail from the File Set\n",
    "\n",
    "The ```file set``` information is in the ```id``` column.\n",
    "Example with the first one."
   ]
  },
  {
   "cell_type": "code",
   "execution_count": null,
   "id": "9bbff187",
   "metadata": {},
   "outputs": [],
   "source": [
    "first_file_set_id = response.data.df.at[0,'id']\n",
    "\n",
    "response_fileset = cfs.files.Definition(first_file_set_id).get_data()\n",
    "response_fileset.data.df"
   ]
  },
  {
   "cell_type": "markdown",
   "id": "d37fd912",
   "metadata": {},
   "source": [
    "### Step 2.5: Or you can listing the 100 records of the FileSets using the Bucket Name and Package ID and page_size=100"
   ]
  },
  {
   "cell_type": "code",
   "execution_count": null,
   "id": "c606eaf9",
   "metadata": {},
   "outputs": [],
   "source": [
    "response = cfs.file_sets.Definition(\n",
    "    bucket = bucket_name, \n",
    "    package_id = package_id,\n",
    "    page_size = 100).get_data()\n",
    "response.data.df"
   ]
  },
  {
   "cell_type": "markdown",
   "id": "f8e9f431",
   "metadata": {},
   "source": [
    "#### The FileSets can be more than 100!!\n",
    "\n",
    "Please note that the FileSets can be more than 100 records. The API returns data maximum 100 records per one query.\n",
    "\n",
    "You can do the paging to turn on the next page as follows:"
   ]
  },
  {
   "cell_type": "code",
   "execution_count": null,
   "id": "cac5c12b",
   "metadata": {},
   "outputs": [],
   "source": [
    "page1_response = cfs.file_sets.Definition(\n",
    "    bucket = bucket_name, \n",
    "    package_id = package_id,\n",
    "    page_size = 100).get_data()\n",
    "display(page1_response.data.df)\n",
    "\n",
    "\n",
    "token = page1_response.data.raw['skip_token']\n",
    "\n",
    "page2_response = cfs.file_sets.Definition(\n",
    "    bucket='bulk-Custom',\n",
    "    page_size=100,\n",
    "    skip_token=token,\n",
    ").get_data()\n",
    "display(page2_response.data.df)"
   ]
  },
  {
   "cell_type": "markdown",
   "id": "1f9b5e18",
   "metadata": {},
   "source": [
    "### Step 3: Get the Cloud file URL using FileSet\n",
    "\n",
    "The next step is getting the file URL on the Cloud service."
   ]
  },
  {
   "cell_type": "code",
   "execution_count": null,
   "id": "aa99bcc9",
   "metadata": {},
   "outputs": [],
   "source": [
    "file_url = response_fileset.data.files[0]\n",
    "print(file_url)"
   ]
  },
  {
   "cell_type": "markdown",
   "id": "7334fda3",
   "metadata": {},
   "source": [
    "### Step 4: Downloading the actual file from the Cloud\n",
    "\n",
    "Our beloved Zscaler blocks my download :p."
   ]
  },
  {
   "cell_type": "code",
   "execution_count": 9,
   "id": "6a92bc63",
   "metadata": {},
   "outputs": [
    {
     "data": {
      "text/plain": [
       "'TM3_SIFMAIndex2025-07-29'"
      ]
     },
     "execution_count": 9,
     "metadata": {},
     "output_type": "execute_result"
    }
   ],
   "source": [
    "file_downloader = cfs.file_downloader.Definition(file_url).retrieve()\n",
    "file_downloader.download()\n",
    "file_downloader.extract()"
   ]
  },
  {
   "cell_type": "markdown",
   "id": "45d69aab",
   "metadata": {},
   "source": [
    "### Step 5: Close the Session\n",
    "\n",
    "This close session mechanism allows an application to invalidate its tokens if the end-user logs out, changes identity, or exits the respective application."
   ]
  },
  {
   "cell_type": "code",
   "execution_count": 10,
   "id": "5247de9b",
   "metadata": {},
   "outputs": [],
   "source": [
    "ld.close_session()"
   ]
  },
  {
   "cell_type": "code",
   "execution_count": null,
   "id": "9b2d60c7",
   "metadata": {},
   "outputs": [],
   "source": []
  }
 ],
 "metadata": {
  "kernelspec": {
   "display_name": "Python 3 (ipykernel)",
   "language": "python",
   "name": "python3"
  },
  "language_info": {
   "codemirror_mode": {
    "name": "ipython",
    "version": 3
   },
   "file_extension": ".py",
   "mimetype": "text/x-python",
   "name": "python",
   "nbconvert_exporter": "python",
   "pygments_lexer": "ipython3",
   "version": "3.11.5"
  }
 },
 "nbformat": 4,
 "nbformat_minor": 5
}
